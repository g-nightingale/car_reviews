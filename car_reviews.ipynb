{
 "cells": [
  {
   "cell_type": "markdown",
   "metadata": {},
   "source": [
    "# CM500329: Car Reviews Assignment\n",
    "#### Objectives\n",
    "The objectives of this assignment are as follows:\n",
    "\n",
    "***Part 1: Sentiment prediction using naive Bayes***\n",
    "- Implement a naive Bayes classifier using 80% (1106) of the reviews as training data. The training data should be selected at random from the full dataset. \n",
    "- Test the classifier using the remaining 20% (276) of the reviews and report the classifier’s performance using a confusion matrix.\n",
    "\n",
    "***Part 2: Creating an improved classifier***\n",
    "- Identify and research a way to improve on the solution to part 1.\n",
    "- Implement this improvement and compare the results to the initial naive Bayes classifier.\n",
    "\n",
    "#### Contents\n",
    "<a href='#part1'>1. Sentiment prediction using naive Bayes</a>  \n",
    "<a href='#part1.1'>- 1.1 Import data</a>  \n",
    "<a href='#part1.2'>- 1.2 Clean text data</a>   \n",
    "<a href='#part1.3'>- 1.3 Split data into training and test sets</a>  \n",
    "<a href='#part1.4'>- 1.4 Apply stemming to the data</a>  \n",
    "<a href='#part1.5'>- 1.5 Transform the training and test data using a bag of words model</a>   \n",
    "<a href='#part1.6'>- 1.6 Train a multinomial naive Bayes model and assess performance</a>  \n",
    "\n",
    "<a href='#part2'>2. Creating an improved classifier</a>  \n",
    "<a href='#part2.1'>- 2.1 Reassess performance of baseline model</a>  \n",
    "<a href='#part2.2'>- 2.2 Improving baseline performance</a>  \n",
    "<a href='#part2.3'>- 2.3 Document vectors</a>   \n",
    "<a href='#part3'>3. Conclusions</a>  \n",
    "<a href='#part4'>4. References</a>\n",
    "\n",
    "#### Notes\n",
    "- To keep the notebook as clean as possible I have saved user defined functions and classes in a separate file named car_reviews_utils.py. These functions are presented in the same order that they appear within the notebook.\n",
    "- Throughout this notebook, summaries of key findings for each section are written in <font color=blue> **blue text** </font>"
   ]
  },
  {
   "cell_type": "code",
   "execution_count": 1,
   "metadata": {},
   "outputs": [],
   "source": [
    "# Import libraries\n",
    "import pandas as pd\n",
    "import numpy as np\n",
    "import matplotlib.pyplot as plt\n",
    "import re\n",
    "\n",
    "from sklearn.model_selection import train_test_split\n",
    "from sklearn.feature_extraction.text import ENGLISH_STOP_WORDS, CountVectorizer, TfidfVectorizer\n",
    "from sklearn.naive_bayes import MultinomialNB\n",
    "from sklearn.metrics import confusion_matrix, f1_score, precision_score, recall_score, accuracy_score\n",
    "from sklearn.svm import LinearSVC, SVC\n",
    "from sklearn.linear_model import LogisticRegression\n",
    "from sklearn.ensemble import RandomForestClassifier\n",
    "\n",
    "from nltk.corpus import stopwords, wordnet\n",
    "from nltk.stem.snowball import EnglishStemmer\n",
    "from nltk.stem import WordNetLemmatizer \n",
    "from nltk import word_tokenize, pos_tag\n",
    "\n",
    "from gensim.models.doc2vec import TaggedDocument\n",
    "from gensim.models import Doc2Vec\n",
    "\n",
    "pd.set_option('display.max_colwidth', 100)\n",
    "\n",
    "file_name = 'car-reviews.csv'\n",
    "test_size = 0.2\n",
    "\n",
    "%run \"car_reviews_utils.py\""
   ]
  },
  {
   "cell_type": "markdown",
   "metadata": {},
   "source": [
    "## Part 1: Sentiment prediction using naive Bayes <a id='part1'></a>\n",
    "\n",
    "In this section we will clean the data, build a Naive Bayes model to predict sentiment and evaluate performance.\n",
    "\n",
    "#### contents  \n",
    "<a href='#part1.1'>1.1 Import data</a>  \n",
    "<a href='#part1.2'>1.2 Clean text data</a>   \n",
    "<a href='#part1.3'>1.3 Split data into training and test sets</a>  \n",
    "<a href='#part1.4'>1.4 Apply stemming to the data</a>  \n",
    "<a href='#part1.5'>1.5 Transform the training and test data using a bag of words</a>   \n",
    "<a href='#part1.6'>1.6 Train a Multinomial Naive Bayes Model and assess performance</a>  "
   ]
  },
  {
   "cell_type": "markdown",
   "metadata": {},
   "source": [
    "### 1.1 Import data <a id='part1.1'></a>\n",
    "Firstly, let's import our data using Pandas and do some high level checks"
   ]
  },
  {
   "cell_type": "code",
   "execution_count": 2,
   "metadata": {},
   "outputs": [
    {
     "name": "stdout",
     "output_type": "stream",
     "text": [
      "<class 'pandas.core.frame.DataFrame'>\n",
      "RangeIndex: 1382 entries, 0 to 1381\n",
      "Data columns (total 2 columns):\n",
      " #   Column     Non-Null Count  Dtype \n",
      "---  ------     --------------  ----- \n",
      " 0   Sentiment  1382 non-null   object\n",
      " 1   Review     1382 non-null   object\n",
      "dtypes: object(2)\n",
      "memory usage: 21.7+ KB\n"
     ]
    }
   ],
   "source": [
    "# Import data\n",
    "car_reviews = pd.read_csv(file_name)\n",
    "car_reviews.info()"
   ]
  },
  {
   "cell_type": "code",
   "execution_count": 3,
   "metadata": {},
   "outputs": [
    {
     "data": {
      "text/html": [
       "<div>\n",
       "<style scoped>\n",
       "    .dataframe tbody tr th:only-of-type {\n",
       "        vertical-align: middle;\n",
       "    }\n",
       "\n",
       "    .dataframe tbody tr th {\n",
       "        vertical-align: top;\n",
       "    }\n",
       "\n",
       "    .dataframe thead th {\n",
       "        text-align: right;\n",
       "    }\n",
       "</style>\n",
       "<table border=\"1\" class=\"dataframe\">\n",
       "  <thead>\n",
       "    <tr style=\"text-align: right;\">\n",
       "      <th></th>\n",
       "      <th>Sentiment</th>\n",
       "      <th>Review</th>\n",
       "    </tr>\n",
       "  </thead>\n",
       "  <tbody>\n",
       "    <tr>\n",
       "      <th>0</th>\n",
       "      <td>Neg</td>\n",
       "      <td>In 1992 we bought a new Taurus and we really loved it  So in 1999 we decided to try a new Tauru...</td>\n",
       "    </tr>\n",
       "    <tr>\n",
       "      <th>1</th>\n",
       "      <td>Neg</td>\n",
       "      <td>The last business trip  I drove to San Francisco  I went to Hertz Rentals and got a 1999 Ford T...</td>\n",
       "    </tr>\n",
       "    <tr>\n",
       "      <th>2</th>\n",
       "      <td>Neg</td>\n",
       "      <td>My husband and I purchased a 1990 Ford F250 and had nothing but problems  we have owned the veh...</td>\n",
       "    </tr>\n",
       "    <tr>\n",
       "      <th>3</th>\n",
       "      <td>Neg</td>\n",
       "      <td>I feel I have a thorough opinion of this truck compared to most who post evaluations of their v...</td>\n",
       "    </tr>\n",
       "    <tr>\n",
       "      <th>4</th>\n",
       "      <td>Neg</td>\n",
       "      <td>AS a mother of 3  all of whom are still in carseats  the only logical thing to do was to trade ...</td>\n",
       "    </tr>\n",
       "  </tbody>\n",
       "</table>\n",
       "</div>"
      ],
      "text/plain": [
       "  Sentiment  \\\n",
       "0       Neg   \n",
       "1       Neg   \n",
       "2       Neg   \n",
       "3       Neg   \n",
       "4       Neg   \n",
       "\n",
       "                                                                                                Review  \n",
       "0   In 1992 we bought a new Taurus and we really loved it  So in 1999 we decided to try a new Tauru...  \n",
       "1   The last business trip  I drove to San Francisco  I went to Hertz Rentals and got a 1999 Ford T...  \n",
       "2   My husband and I purchased a 1990 Ford F250 and had nothing but problems  we have owned the veh...  \n",
       "3   I feel I have a thorough opinion of this truck compared to most who post evaluations of their v...  \n",
       "4   AS a mother of 3  all of whom are still in carseats  the only logical thing to do was to trade ...  "
      ]
     },
     "execution_count": 3,
     "metadata": {},
     "output_type": "execute_result"
    }
   ],
   "source": [
    "# Check the first few records of the data\n",
    "car_reviews.head()"
   ]
  },
  {
   "cell_type": "code",
   "execution_count": 4,
   "metadata": {},
   "outputs": [
    {
     "data": {
      "text/plain": [
       "Pos    691\n",
       "Neg    691\n",
       "Name: Sentiment, dtype: int64"
      ]
     },
     "execution_count": 4,
     "metadata": {},
     "output_type": "execute_result"
    }
   ],
   "source": [
    "# Check sentiment counts\n",
    "car_reviews['Sentiment'].value_counts()"
   ]
  },
  {
   "cell_type": "code",
   "execution_count": 5,
   "metadata": {},
   "outputs": [
    {
     "data": {
      "text/plain": [
       "0    691\n",
       "1    691\n",
       "Name: Sentiment, dtype: int64"
      ]
     },
     "execution_count": 5,
     "metadata": {},
     "output_type": "execute_result"
    }
   ],
   "source": [
    "# Replace the sentiment field with a binary flag\n",
    "replace_dict = {'Neg':0, 'Pos':1}\n",
    "car_reviews.replace({'Sentiment':replace_dict}, inplace=True)\n",
    "car_reviews['Sentiment'].value_counts()"
   ]
  },
  {
   "cell_type": "markdown",
   "metadata": {},
   "source": [
    "<font color=blue> **Summary**\n",
    "- The data has 1,382 records\n",
    "- We have converted sentiment to a binary variable, where a value of 1 represents a positive review. This is in preparation for the supervised machine learning algorithms that we will apply later on\n",
    "- Sentiment is evenly balanced, we have 691 positive reviews and 691 negative reviews"
   ]
  },
  {
   "cell_type": "markdown",
   "metadata": {},
   "source": [
    "### 1.2 Clean text data <a id='part1.2'></a>\n",
    "As a next step, let's clean the review variable so that it's in good shape for creating a bag of words model. We can do this step on all the data at once, without having to worry about data leakage between training and test sets."
   ]
  },
  {
   "cell_type": "code",
   "execution_count": 6,
   "metadata": {},
   "outputs": [
    {
     "data": {
      "text/html": [
       "<div>\n",
       "<style scoped>\n",
       "    .dataframe tbody tr th:only-of-type {\n",
       "        vertical-align: middle;\n",
       "    }\n",
       "\n",
       "    .dataframe tbody tr th {\n",
       "        vertical-align: top;\n",
       "    }\n",
       "\n",
       "    .dataframe thead th {\n",
       "        text-align: right;\n",
       "    }\n",
       "</style>\n",
       "<table border=\"1\" class=\"dataframe\">\n",
       "  <thead>\n",
       "    <tr style=\"text-align: right;\">\n",
       "      <th></th>\n",
       "      <th>Sentiment</th>\n",
       "      <th>Review</th>\n",
       "    </tr>\n",
       "  </thead>\n",
       "  <tbody>\n",
       "    <tr>\n",
       "      <th>0</th>\n",
       "      <td>0</td>\n",
       "      <td>bought new taurus really loved decided try new taurus care style newer version bought like new c...</td>\n",
       "    </tr>\n",
       "    <tr>\n",
       "      <th>1</th>\n",
       "      <td>0</td>\n",
       "      <td>business trip drove san francisco went hertz rentals got ford taurus thinking looked comfortable...</td>\n",
       "    </tr>\n",
       "    <tr>\n",
       "      <th>2</th>\n",
       "      <td>0</td>\n",
       "      <td>husband purchased ford f problems owned vehicle approximately years spent half time shop problem...</td>\n",
       "    </tr>\n",
       "    <tr>\n",
       "      <th>3</th>\n",
       "      <td>0</td>\n",
       "      <td>feel thorough opinion truck compared post evaluations vehicles truck owned new currently k miles...</td>\n",
       "    </tr>\n",
       "    <tr>\n",
       "      <th>4</th>\n",
       "      <td>0</td>\n",
       "      <td>mother carseats logical thing trade sx minivan minivan handful vehicles room family requires add...</td>\n",
       "    </tr>\n",
       "  </tbody>\n",
       "</table>\n",
       "</div>"
      ],
      "text/plain": [
       "   Sentiment  \\\n",
       "0          0   \n",
       "1          0   \n",
       "2          0   \n",
       "3          0   \n",
       "4          0   \n",
       "\n",
       "                                                                                                Review  \n",
       "0  bought new taurus really loved decided try new taurus care style newer version bought like new c...  \n",
       "1  business trip drove san francisco went hertz rentals got ford taurus thinking looked comfortable...  \n",
       "2  husband purchased ford f problems owned vehicle approximately years spent half time shop problem...  \n",
       "3  feel thorough opinion truck compared post evaluations vehicles truck owned new currently k miles...  \n",
       "4  mother carseats logical thing trade sx minivan minivan handful vehicles room family requires add...  "
      ]
     },
     "execution_count": 6,
     "metadata": {},
     "output_type": "execute_result"
    }
   ],
   "source": [
    "# Combine the nltk and scikit-learn stopword lists!\n",
    "all_stop_words = set(stopwords.words('english')).union(set(ENGLISH_STOP_WORDS))\n",
    "\n",
    "# Clean the data\n",
    "car_reviews_clean = clean_text_data(car_reviews, 'Review', all_stop_words)\n",
    "car_reviews_clean.head()"
   ]
  },
  {
   "cell_type": "code",
   "execution_count": 7,
   "metadata": {},
   "outputs": [
    {
     "name": "stdout",
     "output_type": "stream",
     "text": [
      "Review 0 before cleaning:\n"
     ]
    },
    {
     "data": {
      "text/plain": [
       "' In 1992 we bought a new Taurus and we really loved it  So in 1999 we decided to try a new Taurus  I did not care for the style of the newer version  but bought it anyway I do not like the new car half as much as i liked our other one  Thee dash is much to deep and takes up a lot of room  I do not find the seats as comfortable and the way the sides stick out further than the strip that should protect your card from denting It drives nice and has good pick up  But you can not see the hood at all from the driver seat and judging and parking is difficult  It has a very small gas tank I would not buy a Taurus if I had it to do over  I would rather have my 1992 back  I dont think the style is as nice as the the 1992  and it was a mistake to change the style  In less than a month we had a dead battery and a flat tire '"
      ]
     },
     "metadata": {},
     "output_type": "display_data"
    },
    {
     "name": "stdout",
     "output_type": "stream",
     "text": [
      "Review 0 after cleaning:\n"
     ]
    },
    {
     "data": {
      "text/plain": [
       "'bought new taurus really loved decided try new taurus care style newer version bought like new car half liked thee dash deep takes lot room seats comfortable way sides stick strip protect card denting drives nice good pick hood driver seat judging parking difficult small gas tank buy taurus dont think style nice mistake change style month dead battery flat tire'"
      ]
     },
     "metadata": {},
     "output_type": "display_data"
    }
   ],
   "source": [
    "# Print original and cleaned review\n",
    "idx = 0\n",
    "print(f'Review {idx} before cleaning:')\n",
    "display(car_reviews['Review'][idx])\n",
    "\n",
    "print(f'Review {idx} after cleaning:')\n",
    "display(car_reviews_clean['Review'][idx])"
   ]
  },
  {
   "cell_type": "markdown",
   "metadata": {},
   "source": [
    "<font color=blue> **Summary**\n",
    "- Our data has been cleaned!   \n",
    "    - non-alphabetical characters have been removed\n",
    "    - stop words such as 'in', 'we' and 'a' which are unlikely to affect sentiment have been removed\n",
    "    - uppercase characters have been converted to lowercase\n",
    "    - leading/trailing and multiple spaces have been removed\n",
    "</font>"
   ]
  },
  {
   "cell_type": "markdown",
   "metadata": {},
   "source": [
    "### 1.3 Split data into training and test sets <a id='part1.3'></a>\n",
    "Next we will split the data into a training set with 80% of the data and a set set with the remaining 20% of the data"
   ]
  },
  {
   "cell_type": "code",
   "execution_count": 8,
   "metadata": {},
   "outputs": [],
   "source": [
    "# First, lets convert the DataFrame to lists for the x and y variables\n",
    "car_reviews_list = car_reviews_clean.values.tolist()\n",
    "\n",
    "x = [x[1] for x in car_reviews_list]\n",
    "y = [x[0] for x in car_reviews_list]"
   ]
  },
  {
   "cell_type": "code",
   "execution_count": 9,
   "metadata": {},
   "outputs": [
    {
     "name": "stdout",
     "output_type": "stream",
     "text": [
      "% of data to use for training 80.0%\n",
      "training set observations: 1105\n",
      "training set positive reviews: 554 \n",
      "\n",
      "% of data to use for testing 20.0%\n",
      "test set observations: 277\n",
      "test set positive reviews: 137\n"
     ]
    }
   ],
   "source": [
    "# Use train_test_split to create training and testing datasets\n",
    "x_train, x_test, y_train, y_test = train_test_split(x, y, test_size=test_size, random_state=84, shuffle=True)\n",
    "\n",
    "print(f'% of data to use for training {(1-test_size)*100}%')\n",
    "print(f'training set observations: {len(x_train)}')\n",
    "print(f'training set positive reviews: {sum(y_train)} \\n')\n",
    "print(f'% of data to use for testing {test_size*100}%')\n",
    "print(f'test set observations: {len(x_test)}')\n",
    "print(f'test set positive reviews: {sum(y_test)}')"
   ]
  },
  {
   "cell_type": "markdown",
   "metadata": {},
   "source": [
    "<font color=blue> **Summary**\n",
    " - The data has been split into a training set with 80% of the data and a test set with 20% of the data\n",
    "</font>"
   ]
  },
  {
   "cell_type": "markdown",
   "metadata": {},
   "source": [
    "### 1.4 Apply stemming to the data <a id='part1.4'></a>\n",
    "In this section we will apply stemming to the data.\n",
    "\n",
    "According to Wikipedia, 'stemming is the process of reducing inflected (or sometimes derived) words to their word stem, base or root form—generally a written word form'.\n",
    "\n",
    "Stemming reduces variations of a word to a common root form. For example 'walk', 'walked' and 'walking' would all be stemmed to 'walk'. Using stemming we group together similar words that have a shared root form, and presumably shared meanings. Stemming will help to reduce the number of dimensions in our bag of words model. \n",
    "\n",
    "In this assignment we will use the NLTK implementation of the English (Porter2) stemmer. This stemmer makes several improvements to the original Porter stemmer introduced by M.F. Porter in 1980, generally through modified treatment of various suffixes (Snowballstem, 2002).\n",
    "\n",
    "Concrete examples of stemming will be given in the following cells.\n",
    "\n",
    "**Note:** In part 2 of this assignment we will explore lemmatization as an alternative to stemming."
   ]
  },
  {
   "cell_type": "code",
   "execution_count": 10,
   "metadata": {},
   "outputs": [
    {
     "name": "stdout",
     "output_type": "stream",
     "text": [
      "vocabulary size before stemming: 14328\n",
      "vocabulary size after stemming: 9033\n"
     ]
    }
   ],
   "source": [
    "# How does stemming impact the size of our vocabulary?\n",
    "x_train_stem = stem_docs(x_train)\n",
    "x_test_stem = stem_docs(x_test)\n",
    "\n",
    "# Create a CountVectorizer and extract the vocab\n",
    "vectorizer = CountVectorizer()\n",
    "vectorizer.fit(x_train)\n",
    "vectorizer_vocab = vectorizer.get_feature_names()\n",
    "\n",
    "# Create a CountVectorizer with stemming and extract the vocab\n",
    "vectorizer_stem = CountVectorizer()\n",
    "vectorizer_stem.fit(x_train_stem)\n",
    "vectorizer_stem_vocab = vectorizer_stem.get_feature_names()\n",
    "\n",
    "print(f'vocabulary size before stemming: {len(vectorizer_vocab)}')\n",
    "print(f'vocabulary size after stemming: {len(vectorizer_stem_vocab)}')"
   ]
  },
  {
   "cell_type": "markdown",
   "metadata": {},
   "source": [
    "#### Analyse the impact of stemming on a few words in the dictionary"
   ]
  },
  {
   "cell_type": "code",
   "execution_count": 11,
   "metadata": {},
   "outputs": [
    {
     "name": "stdout",
     "output_type": "stream",
     "text": [
      "Stemming example for words starting with \"acceler\"\n",
      "Original vocabulary\n",
      "['accelerate', 'accelerated', 'accelerates', 'accelerating', 'acceleration', 'accelerations', 'accelerator']\n",
      "Stemmed vocabulary\n",
      "['acceler'] \n",
      "\n",
      "Stemming example for words starting with \"impress\"\n",
      "Original vocabulary\n",
      "['impress', 'impressed', 'impresses', 'impressing', 'impression', 'impressions', 'impressive', 'impressively']\n",
      "Stemmed vocabulary\n",
      "['impress'] \n",
      "\n",
      "Stemming example for words starting with \"transmis\"\n",
      "Original vocabulary\n",
      "['transmissiion', 'transmission', 'transmissions']\n",
      "Stemmed vocabulary\n",
      "['transmiss', 'transmissiion'] \n",
      "\n",
      "Stemming example for words starting with \"qualit\"\n",
      "Original vocabulary\n",
      "['qualities', 'quality']\n",
      "Stemmed vocabulary\n",
      "['qualiti'] \n",
      "\n"
     ]
    }
   ],
   "source": [
    "# Check a few examples before and after stemming\n",
    "before_and_after_stemming('acceler', vectorizer_vocab, vectorizer_stem_vocab)\n",
    "before_and_after_stemming('impress', vectorizer_vocab, vectorizer_stem_vocab)\n",
    "before_and_after_stemming('transmis', vectorizer_vocab, vectorizer_stem_vocab)\n",
    "before_and_after_stemming('qualit', vectorizer_vocab, vectorizer_stem_vocab)"
   ]
  },
  {
   "cell_type": "markdown",
   "metadata": {},
   "source": [
    "<font color=blue> **Summary**\n",
    "- Words like 'accelerate', 'accelerated' and 'accelerates' are stemmed to the common root of 'accel'\n",
    "- Applying stemming reduces the number of words in our vocabulary from **14,328** to **9,033**\n",
    "</font>"
   ]
  },
  {
   "cell_type": "markdown",
   "metadata": {},
   "source": [
    "### 1.5 Transform the training and test data using a bag of words model <a id='part1.5'></a>\n",
    "\n",
    "We will now transform the documents into numerical feature vectors using a bag of words model.\n",
    "\n",
    "#### Bag of words model\n",
    "Bag of words models are one of the most common ways of converting text data into numerical features. A separate feature is output for every unique word in of the all documents, and the value of each feature for a given document represents the number of times that the word appears in within that document (Albon, 2018).\n",
    "\n",
    "We will use the Scikit-Learn CountVectorizer class to create our bag of words model.\n",
    "\n",
    "**Note:** The count vectors are fit using only the documents from our training data, so as to prevent any data leakage arising from 'seeing' words from the test set."
   ]
  },
  {
   "cell_type": "code",
   "execution_count": 12,
   "metadata": {},
   "outputs": [
    {
     "name": "stdout",
     "output_type": "stream",
     "text": [
      "training matrix shape (1105, 9033)\n",
      "test matrix shape (277, 9033)\n"
     ]
    }
   ],
   "source": [
    "# Transform the review data using the count vectorizer\n",
    "x_train_vec = vectorizer_stem.transform(x_train_stem).toarray()\n",
    "x_test_vec = vectorizer_stem.transform(x_test_stem).toarray()\n",
    "\n",
    "print(f'training matrix shape {x_train_vec.shape}')\n",
    "print(f'test matrix shape {x_test_vec.shape}')"
   ]
  },
  {
   "cell_type": "markdown",
   "metadata": {},
   "source": [
    "#### Checking word fequencies\n",
    "\n",
    "Let's have a look at the top 10 words by frequency"
   ]
  },
  {
   "cell_type": "code",
   "execution_count": 13,
   "metadata": {},
   "outputs": [
    {
     "data": {
      "image/png": "[encoded data removed]",
      "text/plain": [
       "<Figure size 720x576 with 1 Axes>"
      ]
     },
     "metadata": {
      "needs_background": "light"
     },
     "output_type": "display_data"
    }
   ],
   "source": [
    "# Plot word frequencies\n",
    "plot_word_freq(x_train_vec, vectorizer_stem.get_feature_names(), n_words=10)"
   ]
  },
  {
   "cell_type": "markdown",
   "metadata": {},
   "source": [
    "From the frequency plot we see that 'car' is the most common word, appearing almost 6,000 times across documents in the training set. 'ford' is the second most common word, appearing almost 3,000 times. The fact that 'ford' appears so often is quite interesting, especially given the absence of other card brands amongst frequent words. Perhaps our review data is exclusively for Ford vehicles."
   ]
  },
  {
   "cell_type": "markdown",
   "metadata": {},
   "source": [
    "#### Checking the vectors\n",
    "\n",
    "Observing the first 5 vectors from the training data we can see that the data appears to be sparsely populated, there are lots of zeros ..."
   ]
  },
  {
   "cell_type": "code",
   "execution_count": 14,
   "metadata": {},
   "outputs": [
    {
     "data": {
      "text/plain": [
       "array([[0, 0, 0, ..., 0, 0, 0],\n",
       "       [0, 0, 0, ..., 3, 0, 0],\n",
       "       [0, 0, 0, ..., 0, 0, 0],\n",
       "       [0, 0, 0, ..., 0, 0, 0],\n",
       "       [0, 0, 0, ..., 0, 0, 0]], dtype=int64)"
      ]
     },
     "execution_count": 14,
     "metadata": {},
     "output_type": "execute_result"
    }
   ],
   "source": [
    "x_train_vec[:5]"
   ]
  },
  {
   "cell_type": "markdown",
   "metadata": {},
   "source": [
    "We can check which indices in the vector are non-zero using numpy's nonzero function. Let's check the first vector:"
   ]
  },
  {
   "cell_type": "code",
   "execution_count": 15,
   "metadata": {},
   "outputs": [
    {
     "data": {
      "text/plain": [
       "(array([  30,   83,   93,  135,  146,  149,  167,  212,  213,  239,  309,\n",
       "         321,  363,  381,  495,  499,  525,  565,  621,  666,  685,  689,\n",
       "         717,  800,  833,  839,  863,  868,  913,  953,  968, 1008, 1021,\n",
       "        1053, 1091, 1103, 1115, 1168, 1246, 1247, 1272, 1347, 1362, 1397,\n",
       "        1417, 1442, 1460, 1471, 1479, 1499, 1530, 1620, 1634, 1669, 1670,\n",
       "        1704, 1777, 1801, 1838, 1848, 1861, 1870, 1887, 1907, 1910, 1936,\n",
       "        1942, 1946, 2004, 2116, 2242, 2308, 2357, 2379, 2389, 2399, 2402,\n",
       "        2442, 2443, 2459, 2520, 2532, 2538, 2555, 2600, 2654, 2673, 2681,\n",
       "        2686, 2691, 2720, 2727, 2741, 2749, 2768, 2780, 2783, 2804, 2812,\n",
       "        2815, 2861, 2865, 2922, 2927, 2972, 2973, 2997, 3029, 3038, 3062,\n",
       "        3075, 3121, 3175, 3191, 3222, 3290, 3306, 3309, 3314, 3323, 3377,\n",
       "        3379, 3397, 3426, 3458, 3485, 3489, 3502, 3522, 3526, 3550, 3566,\n",
       "        3618, 3645, 3676, 3678, 3706, 3729, 3784, 3789, 3822, 3824, 3865,\n",
       "        3911, 3913, 3981, 3998, 4024, 4053, 4075, 4087, 4155, 4186, 4235,\n",
       "        4329, 4376, 4377, 4421, 4448, 4453, 4460, 4472, 4497, 4507, 4514,\n",
       "        4522, 4530, 4536, 4551, 4565, 4591, 4594, 4596, 4608, 4644, 4652,\n",
       "        4675, 4719, 4724, 4730, 4750, 4794, 4827, 4837, 4853, 4962, 4978,\n",
       "        4981, 5020, 5029, 5031, 5114, 5125, 5149, 5165, 5179, 5207, 5209,\n",
       "        5222, 5251, 5312, 5322, 5340, 5341, 5345, 5397, 5453, 5482, 5493,\n",
       "        5504, 5506, 5512, 5551, 5611, 5646, 5660, 5724, 5735, 5745, 5762,\n",
       "        5774, 5790, 5843, 5862, 5926, 5932, 5968, 6042, 6089, 6094, 6113,\n",
       "        6128, 6144, 6167, 6198, 6235, 6240, 6252, 6332, 6346, 6358, 6395,\n",
       "        6400, 6465, 6473, 6505, 6510, 6534, 6555, 6570, 6598, 6625, 6646,\n",
       "        6703, 6741, 6764, 6770, 6780, 6783, 6818, 6851, 6877, 6908, 6911,\n",
       "        6916, 6922, 6930, 6974, 6998, 7035, 7086, 7097, 7101, 7113, 7189,\n",
       "        7193, 7222, 7232, 7245, 7250, 7251, 7265, 7317, 7322, 7336, 7385,\n",
       "        7446, 7458, 7476, 7483, 7496, 7519, 7533, 7535, 7561, 7642, 7662,\n",
       "        7666, 7676, 7700, 7701, 7716, 7746, 7755, 7761, 7767, 7768, 7771,\n",
       "        7797, 7848, 7859, 7915, 7917, 7946, 7947, 7983, 7988, 7997, 8019,\n",
       "        8028, 8058, 8066, 8075, 8090, 8095, 8118, 8126, 8127, 8172, 8185,\n",
       "        8230, 8244, 8314, 8493, 8505, 8515, 8592, 8620, 8678, 8714, 8733,\n",
       "        8748, 8753, 8761, 8775, 8814, 8822, 8830, 8839, 8857, 8860, 8934,\n",
       "        9003], dtype=int64),)"
      ]
     },
     "execution_count": 15,
     "metadata": {},
     "output_type": "execute_result"
    }
   ],
   "source": [
    "np.nonzero(x_train_vec[0])"
   ]
  },
  {
   "cell_type": "markdown",
   "metadata": {},
   "source": [
    "From this output we can see that index 30, 83, ... , 9003 are non-zero for this vector. The words represented by these indices appear at least once for the first training example. This output is still not very useful because we do not know which words these indices map to, let's check these in the next step:"
   ]
  },
  {
   "cell_type": "code",
   "execution_count": 16,
   "metadata": {},
   "outputs": [
    {
     "name": "stdout",
     "output_type": "stream",
     "text": [
      "acceler\n",
      "add\n",
      "yrs\n"
     ]
    }
   ],
   "source": [
    "# Check words from our vocab for indicies 30, 83 and 9003\n",
    "print(vectorizer_stem_vocab[30])\n",
    "print(vectorizer_stem_vocab[83])\n",
    "print(vectorizer_stem_vocab[9003])"
   ]
  },
  {
   "cell_type": "markdown",
   "metadata": {},
   "source": [
    "<font color=blue> **Summary**\n",
    "- The bag of words model enables us to give our text data a numeric representation\n",
    "- The CountVectorizer converts a collection of documents into a matrix of word counts\n",
    "- The count vectors are generally sparsely populated\n",
    "- Using numpy's nonzero function we can find which indices in a given vector are populated and plug these indices back into our vocabulary in order to verify which words are present for a given training example</font>"
   ]
  },
  {
   "cell_type": "markdown",
   "metadata": {},
   "source": [
    "### 1.6 Train a multinomial naive Bayes model and assess performance <a id='part1.6'></a>\n",
    "In this section we will: \n",
    "- Train a multinomial naive Bayes model on the training data using the Scikit-Learn multinomial naive Bayes classifier\n",
    "- Measure performance using accuracy and a confusion matrix\n",
    "- Discuss other performance measures including precision, recall and f1 scores\n",
    "\n",
    "#### Multinomial naive Bayes\n",
    "Multinomial naive Bayes (MNB) implements the naive Bayes model for multinomially distributed data. This algorithm is suitable for discrete data which follow a multinomial distribution, such as the word count vectors for our reviews. In fact, one of the most common uses of multinomial naive Bayes is for text classification (Albon, 2018). Naive Bayes assumes conditional independence amongst the features. This means that a value of a given feature is independent of the value of any other feature, given the class variable:   \n",
    "\n",
    "$ p(x_1, x_2, x_3, ... ,x_n | y) = \\displaystyle \\prod_{i=1}^{n} p(x_i|y) $  \n",
    "\n",
    "\n",
    "In this assignment we will use the Scikit-Learn implementation of multinomial naive Bayes.  \n",
    "\n",
    "***A note on accuracy as a performance metric:***  \n",
    "\n",
    "Because the sentiment class is balanced, accuracy is an appropriate performance metric for this problem. \n",
    "\n",
    "If sentiment were extremely skewed - say 1 in 100 reviews were positive, accuracy would not be a good metric as our classifier could achieve 99% accuracy by always predicting a negative review, which would not be very useful.\n",
    "\n",
    "Metrics such as precision and recall should be considered when our classes are extremely unbalanced or the costs associated with type 1 and type 2 errors are asymmetric. These metrics will be discussed briefly at the end of this section."
   ]
  },
  {
   "cell_type": "code",
   "execution_count": 17,
   "metadata": {},
   "outputs": [
    {
     "name": "stdout",
     "output_type": "stream",
     "text": [
      "training set accuracy 0.9149\n",
      "test set accuracy 0.7617\n"
     ]
    }
   ],
   "source": [
    "# Train the model and print accuracy\n",
    "clf = MultinomialNB()\n",
    "clf.fit(x_train_vec, y_train)\n",
    "\n",
    "y_train_pred = clf.predict(x_train_vec)\n",
    "y_test_pred = clf.predict(x_test_vec)\n",
    "\n",
    "print_accuracy(y_train, y_train_pred, y_test, y_test_pred)"
   ]
  },
  {
   "cell_type": "markdown",
   "metadata": {},
   "source": [
    "Our classifier achieves 76.17% accuracy on the test set - which seems pretty good, definitely much better than random!\n",
    "\n",
    "But how would a human would perform on such a task? It seems reasonable that a human could perform this task very easily and achieve accuracy close to 100%. Perhaps our classifier isn't very good after all.\n",
    "\n",
    "Let's examine the confusion matrix to better understand where our errors are coming from:"
   ]
  },
  {
   "cell_type": "code",
   "execution_count": 18,
   "metadata": {},
   "outputs": [
    {
     "name": "stdout",
     "output_type": "stream",
     "text": [
      "\n",
      "training set confusion matrix (proportion):\n"
     ]
    },
    {
     "data": {
      "text/html": [
       "<div>\n",
       "<style scoped>\n",
       "    .dataframe tbody tr th:only-of-type {\n",
       "        vertical-align: middle;\n",
       "    }\n",
       "\n",
       "    .dataframe tbody tr th {\n",
       "        vertical-align: top;\n",
       "    }\n",
       "\n",
       "    .dataframe thead th {\n",
       "        text-align: right;\n",
       "    }\n",
       "</style>\n",
       "<table border=\"1\" class=\"dataframe\">\n",
       "  <thead>\n",
       "    <tr style=\"text-align: right;\">\n",
       "      <th></th>\n",
       "      <th>Predicted:0</th>\n",
       "      <th>Predicted:1</th>\n",
       "      <th>Total</th>\n",
       "    </tr>\n",
       "  </thead>\n",
       "  <tbody>\n",
       "    <tr>\n",
       "      <th>Actual:0</th>\n",
       "      <td>0.4516</td>\n",
       "      <td>0.0471</td>\n",
       "      <td>0.4986</td>\n",
       "    </tr>\n",
       "    <tr>\n",
       "      <th>Actual:1</th>\n",
       "      <td>0.0380</td>\n",
       "      <td>0.4633</td>\n",
       "      <td>0.5014</td>\n",
       "    </tr>\n",
       "    <tr>\n",
       "      <th>Total</th>\n",
       "      <td>0.4896</td>\n",
       "      <td>0.5104</td>\n",
       "      <td>1.0000</td>\n",
       "    </tr>\n",
       "  </tbody>\n",
       "</table>\n",
       "</div>"
      ],
      "text/plain": [
       "          Predicted:0  Predicted:1   Total\n",
       "Actual:0       0.4516       0.0471  0.4986\n",
       "Actual:1       0.0380       0.4633  0.5014\n",
       "Total          0.4896       0.5104  1.0000"
      ]
     },
     "metadata": {},
     "output_type": "display_data"
    },
    {
     "name": "stdout",
     "output_type": "stream",
     "text": [
      "\n",
      "test set confusion matrix (proportion):\n"
     ]
    },
    {
     "data": {
      "text/html": [
       "<div>\n",
       "<style scoped>\n",
       "    .dataframe tbody tr th:only-of-type {\n",
       "        vertical-align: middle;\n",
       "    }\n",
       "\n",
       "    .dataframe tbody tr th {\n",
       "        vertical-align: top;\n",
       "    }\n",
       "\n",
       "    .dataframe thead th {\n",
       "        text-align: right;\n",
       "    }\n",
       "</style>\n",
       "<table border=\"1\" class=\"dataframe\">\n",
       "  <thead>\n",
       "    <tr style=\"text-align: right;\">\n",
       "      <th></th>\n",
       "      <th>Predicted:0</th>\n",
       "      <th>Predicted:1</th>\n",
       "      <th>Total</th>\n",
       "    </tr>\n",
       "  </thead>\n",
       "  <tbody>\n",
       "    <tr>\n",
       "      <th>Actual:0</th>\n",
       "      <td>0.3827</td>\n",
       "      <td>0.1227</td>\n",
       "      <td>0.5054</td>\n",
       "    </tr>\n",
       "    <tr>\n",
       "      <th>Actual:1</th>\n",
       "      <td>0.1155</td>\n",
       "      <td>0.3791</td>\n",
       "      <td>0.4946</td>\n",
       "    </tr>\n",
       "    <tr>\n",
       "      <th>Total</th>\n",
       "      <td>0.4982</td>\n",
       "      <td>0.5018</td>\n",
       "      <td>1.0000</td>\n",
       "    </tr>\n",
       "  </tbody>\n",
       "</table>\n",
       "</div>"
      ],
      "text/plain": [
       "          Predicted:0  Predicted:1   Total\n",
       "Actual:0       0.3827       0.1227  0.5054\n",
       "Actual:1       0.1155       0.3791  0.4946\n",
       "Total          0.4982       0.5018  1.0000"
      ]
     },
     "metadata": {},
     "output_type": "display_data"
    }
   ],
   "source": [
    "# Print confusion matrices\n",
    "train_cm_prop = labelled_confusion_matrix(y_train, y_train_pred, prop=True) \n",
    "test_cm_prop = labelled_confusion_matrix(y_test, y_test_pred, prop=True) \n",
    "\n",
    "print('\\ntraining set confusion matrix (proportion):')\n",
    "display(train_cm_prop)\n",
    "\n",
    "print('\\ntest set confusion matrix (proportion):')\n",
    "display(test_cm_prop)"
   ]
  },
  {
   "cell_type": "markdown",
   "metadata": {},
   "source": [
    "From the ***test set*** confusion matrix we can observe the following:\n",
    "- 37.91% of predictions are true positives\n",
    "- 38.27%  of predictions are true negatives\n",
    "- 12.27% of predictions are false positives\n",
    "- 11.55% of predictions are false negatives\n",
    "\n",
    "We are seeing slightly more errors from falsely predicting the positive class verses falsely predicting the negative class."
   ]
  },
  {
   "cell_type": "markdown",
   "metadata": {},
   "source": [
    "#### Precision, Recall & F1 scores\n",
    "\n",
    "In practice it's also common to measure the precision, recall and f1 scores when analysing the performance of a binary classifier, especially when the classes are skewed or the costs of type 1 and type 2 errors are asymmetric.\n",
    "- Precision tells us what proportion of our predictions for the positive class are correct\n",
    "- Recall tells us what proportion of the total positive class our classifier captures\n",
    "- The f1 score is the harmonic mean of precision and recall, and can be used as a single metric to compare models\n",
    "\n",
    "These metrics are calculated as follows:\n",
    "- $precision \\ = \\ tp \\ / \\ (tp \\ + \\ fp)$ \n",
    "- $recall \\ = \\ tp \\ / \\ (tp \\ + \\ fn)$\n",
    "- $f_1\\ = \\ 2 \\times (precision \\ \\times \\ recall) \\ / \\ (precision \\ + \\ recall)$\n",
    "\n",
    "\n",
    "Let's calculate the precision, recall and f1 score for our data:"
   ]
  },
  {
   "cell_type": "code",
   "execution_count": 19,
   "metadata": {},
   "outputs": [
    {
     "name": "stdout",
     "output_type": "stream",
     "text": [
      "training set performance:\n",
      "training precision score: 0.9078\n",
      "training recall score: 0.9242\n",
      "training f1 score: 0.9159\n",
      "\n",
      "test set performance:\n",
      "testing precision score: 0.7554\n",
      "testing recall score: 0.7664\n",
      "testing f1 score: 0.7609\n"
     ]
    }
   ],
   "source": [
    "# Print precision, recall and f1 metrics\n",
    "print_metrics(y_train, y_train_pred, y_test, y_test_pred)"
   ]
  },
  {
   "cell_type": "markdown",
   "metadata": {},
   "source": [
    "From the test set results we can observe:\n",
    "- Our classifier has a precision of 75.54%. This means that our classifier was correct 75.54% of the time when it predicted positive reviews\n",
    "- Our classifier has a recall score of 76.64%. This means that our classifier captures 76.64% of all positive reviews when it predicted positive reviews\n",
    "- Our classifier achieves an f1 score of 76%"
   ]
  },
  {
   "cell_type": "markdown",
   "metadata": {},
   "source": [
    "<font color=blue> **Summary**\n",
    "- Our classifier correctly predicts 76.17% of observations on our test set\n",
    "    - Accuracy is a good performance metric for this problem, because our classes are balanced\n",
    "    - The performance of our classifier is far from human level\n",
    "- By producing a confusion matrix, we can make the following observations about the errors:\n",
    "    - 12.27% of predictions are false positives\n",
    "    - 11.55% of predictions are false negatives\n",
    "- We have briefly covered precision, recall and f1 scores </font>"
   ]
  },
  {
   "cell_type": "markdown",
   "metadata": {},
   "source": [
    "## Part 2: Creating an improved classifier <a id='part2'></a>\n",
    "In this section we will look at ways to improve our classifier.\n",
    "\n",
    "#### Contents\n",
    "<a href='#part2.1'>2.1 Reassess performance of baseline model</a>  \n",
    "<a href='#part2.2'>2.2 Improving baseline performance</a>  \n",
    "<a href='#part2.3'>2.3 Document vectors</a>   "
   ]
  },
  {
   "cell_type": "markdown",
   "metadata": {},
   "source": [
    "### 2.1 Reassess performance of baseline model <a id='part2.1'></a>\n",
    "\n",
    "#### Establishing baseline performance\n",
    "In part 1 our classifier achieved an accuracy of 76.17% of the test set.\n",
    "\n",
    "However what if we sampled our test set slightly differently?\n",
    "\n",
    "By changing the random number seed in the *train_test_split* function to 42 and running the remaining code without change, we would now get an accuracy of 81.59% on the test set.\n",
    "\n",
    "That's more than an 7% improvement in performance!\n",
    "\n",
    "How do we know which results to trust? \n",
    "\n",
    "What we really want to know is how our classifier will generalise on unseen data, and using a single test set for this purpose isn't great because results can be driven by natural variation associated with the sampling process. When using a single test dataset our generalization error is less reliable and we cannot compute variance or confidence intervals around our estimate (Zheng, 2015). \n",
    "\n",
    "From the Law of Large numbers we know that as we increase the number of trials for an experiment our estimate for the mean will converge towards the true population mean.\n",
    "\n",
    "Enter Monte Carlo Cross Validation...\n",
    "\n",
    "#### Monte Carlo Cross Validation\n",
    "Monte Carlo Cross Validation (also known as repeated random sub-sample validation or simply bootstrapping) is a technique used to assess how a model will generalise to an independent set of data.\n",
    "\n",
    "In each iteration of Monte Carlo Cross Validation we randomly shuffle our data, select a proportion of the data for training and use the remaining data for validation. \n",
    "\n",
    "The training set is used to train a model and the validation set is used to create predictions and measure performance, using a metric such as accuracy. \n",
    "\n",
    "We repeat this process many times and calculate the average scores across all iterations to obtain the expected performance for the classifier (Zheng, 2015).\n",
    "\n",
    "\n",
    "We will apply Monte Carlo Cross Validation to the model from part 1 to calculate the mean accuracy using the following settings:\n",
    "- Number of iterations: 30\n",
    "- Training set %: 70.0\n",
    "- Validation set %: 30.0\n",
    "\n",
    "We have chosen 30 iterations as a sample size of 30 is generally considered the minimum number of samples required to approximate a normal distribution for a random variable.\n",
    "\n",
    "**We will still use our test set to report the final results of our model, however we will use cross validation to understand the expectation and variance of a model and also to compare candidate models. Test set results will not be used to decide which model to use.**"
   ]
  },
  {
   "cell_type": "markdown",
   "metadata": {},
   "source": [
    "<font color='orangered'> **Implementation note:**  \n",
    "My implementation of Monte Carlo Cross Validation takes random sub-samples from the original training set to create the cv training and validation sets.\n",
    "\n",
    "A function called feature_vectorisation is passed into the MonteCarloCV train_params() method and handles pre-processing steps such as stemming and the creation of count vectors. This function also ensures that pre-processing steps such as creating count vectors are trained only the cv training set and then applied to the cv validation set in order to prevent any data leakage. See car_reviews_utils.py for further details.\n",
    "    \n",
    "In the interests of time, cross validation results have been hardedcoded in the remainder of this notebook, as cross validation can take several minutes to run. If a user wishes to reproduce the cross validation results for themselves they can do so by setting run_mccv to True.\n",
    "</font>"
   ]
  },
  {
   "cell_type": "code",
   "execution_count": 20,
   "metadata": {},
   "outputs": [],
   "source": [
    "# Run the MNB model through Monte Carlo Cross Validation\n",
    "run_mccv = False\n",
    "\n",
    "if run_mccv:\n",
    "    models = [MultinomialNB()]\n",
    "    params = [{'stem':True, 'count_vectorizer':True, 'min_df':1, 'ngram_range':(1, 1)}]\n",
    "\n",
    "    mccv = MonteCarloCV(models, number_of_runs=30)\n",
    "    mccv.train_params(x_train, y_train, feature_processing=feature_vectorisation, params=params,\n",
    "                      verbose=True, verbose_n=10)\n",
    "\n",
    "    model_labels = ['MNB - Baseline']\n",
    "    mccv.plot_scores(labels=model_labels, xlim=(0.7, 0.9))"
   ]
  },
  {
   "cell_type": "markdown",
   "metadata": {},
   "source": [
    "<img align=\"left\" src='mccv1.png'>"
   ]
  },
  {
   "cell_type": "markdown",
   "metadata": {},
   "source": [
    "<font color=blue> **Summary**\n",
    "- From the results of Monte Carlo Cross Validation we find that:\n",
    "    - Our classifer achieves a mean accuracy of 76.8% with a standard deviation of 2.26%\n",
    "    - This aligns with our test set result of 76.17%\n",
    "</font>"
   ]
  },
  {
   "cell_type": "markdown",
   "metadata": {},
   "source": [
    "### 2.2 Improving baseline performance <a id='part2.2'></a>\n",
    "In this section we will try and improve on our baseline model.\n",
    "\n",
    "Wang and Manning (2012) find that support vector machines (SVMs) and bigrams generate superior results for sentiment analysis tasks when compared with naive Bayes and unigrams, especially for long documents such as full length reviews.\n",
    "\n",
    "In addition to trialling SVMs and bigrams, we will also explore the use of:\n",
    "- Lemmatization in document pre-processing\n",
    "- TF-IDF weighting\n",
    "- Trigrams\n",
    "\n",
    "We will trial several model configurations and compare cross validation results.\n",
    "\n",
    "Let's briefly cover support vector machines, n-gram ranges, lemmatization, and TF-IDF weighting as we have not yet discussed these concepts.\n",
    "\n",
    "#### Support Vector Machines\n",
    "As found by Wang and Manning (2012), the support vector machine algorithm can deliver superior performance to multinomial naive Bayes for text classification tasks.\n",
    "\n",
    "Support vector machines (SVM) construct hyperplanes in high dimensional space, with the goal of maximizing the distance between the hyperplane and the class members in order to minimize classification error. Because they use hyperplanes to determine class membership, support vector machines do not output probability estimates, unlike most classification algorithms (Albon, 2018). Support vector machines are known to be very effective in scenarios where the data is highly dimensional and when the number of dimensions is greater than the number of samples (Geron, 2017). Both of these cases are true for our car review data.\n",
    "\n",
    "Typically SVMs require the input data to be standardised, however as all of our data is measured in the same units or normalised via TF-IDF, this step is not necessary.\n",
    "\n",
    "We will use the Scikit-Learn implementation of SVMs via the LinearSVC class.\n",
    "\n",
    "#### N-gram range\n",
    "In our baseline model we have only considered single words, also known as unigrams. We will also trial the use of bigrams (two consecutive words) and trigrams (three consecutive words). Below are some examples of unigrams, bigrams and trigrams:\n",
    "\n",
    "- Unigrams: 'accelerate', 'overhead', 'test'\n",
    "- Bigrams: 'accelerate easily',  'overhead cam', 'test drive'  \n",
    "- Trigrams: 'accelerate cruising speed', 'overhead cam engine', 'test drive surprised'\n",
    "\n",
    "#### Lemmatization\n",
    "Lemmatization serves a similar function to stemming, in the sense that both methods look to reduce inflected forms of words to a common base. However unlike stemming, lemmatizers have knowledge of word context, and are able to discriminate between words that have differing meanings depending on part of speech. \n",
    "\n",
    "For example, 'better' has 'good' as its lemma, and both would be transformed to 'good' using a lemmatizer. Using stemming both words would be unchanged.\n",
    "\n",
    "Lemmatization relies on a lexical knowledge base such as WordNet base to obtain the correct base form of words. One disadvantage of lemmatization is that it is computationally expensive as it needs to consult the lexical knowledge base as well as understand part of speech. In scenarios where speed is paramount, stemming may be preferred.\n",
    "\n",
    "In this assignment we will use the WordNet implementation of lemmatization from the NLTK library.\n",
    "\n",
    "#### TF-IDF weighting\n",
    "Term frequency inverse document frequency (TF-IDF) is a method of weighting words in a document by the number of times a word appears in a document proportional to the number of documents that contain the word. Words which appear more often in a document, but are less common across all documents are considered to be more informative and are thus given a higher weighting. Conversely, Words which appear less frequently in a document and are common across many documents are given a lower weighting.\n",
    "\n",
    "In this assignment we will use the Scikit-Learn TfidfVectorizer, which first generates a count vectorizer, and then normalises the output using TF-IDF weights. \n",
    "\n",
    "**Before running our models, let's take a look at the frequencies of bigrams and trigrams:**"
   ]
  },
  {
   "cell_type": "code",
   "execution_count": 21,
   "metadata": {},
   "outputs": [
    {
     "data": {
      "image/png": "[encoded data removed]",
      "text/plain": [
       "<Figure size 720x576 with 1 Axes>"
      ]
     },
     "metadata": {
      "needs_background": "light"
     },
     "output_type": "display_data"
    },
    {
     "data": {
      "image/png": "[encoded data removed]",
      "text/plain": [
       "<Figure size 720x576 with 1 Axes>"
      ]
     },
     "metadata": {
      "needs_background": "light"
     },
     "output_type": "display_data"
    }
   ],
   "source": [
    "# Create vectorizers using bigrams and trigrams\n",
    "x_train_stem = stem_docs(x_train)\n",
    "vectorizer_bigram = CountVectorizer(ngram_range=(2, 2), max_features=100)\n",
    "vectorizer_bigram.fit(x_train_stem)\n",
    "x_train_bigram = vectorizer_bigram.transform(x_train_stem).toarray()\n",
    "\n",
    "vectorizer_trigram = CountVectorizer(ngram_range=(3, 3), max_features=100)\n",
    "vectorizer_trigram.fit(x_train_stem)\n",
    "x_train_trigram = vectorizer_trigram.transform(x_train_stem).toarray()\n",
    "\n",
    "# Plot bigram and trigram frequencies\n",
    "plot_word_freq(x_train_bigram, vectorizer_bigram.get_feature_names(), n_words=10, \n",
    "               title='Bigram Frequency', color='lightgreen')\n",
    "plot_word_freq(x_train_trigram, vectorizer_trigram.get_feature_names(), n_words=10, \n",
    "               title='Trigram Frequency', color='paleturquoise')"
   ]
  },
  {
   "cell_type": "markdown",
   "metadata": {},
   "source": [
    "For bigrams 'gas mileag', 'wheel drive' and 'ford taurus' are the top 3 most frequent terms.\n",
    "For trigrams 'good gas mileag', 'anti lock brake' and 'rear wheel drive' are the top 3 most frequent terms.\n",
    "\n",
    "Both bigrams and trigrams are much less frequent than what we have seen for unigrams.\n",
    "\n",
    "Interestingly, the term 'ford' appears multiple times across the most frequent bigrams and trigrams, which reinforces our earlier hypothesis that the car reviews in our data may be for Ford motorcars exclusively."
   ]
  },
  {
   "cell_type": "markdown",
   "metadata": {},
   "source": [
    "#### Testing model configurations\n",
    "To find which combinations perform the best we will test a total of 32 model configurations using MNB and SVM algorithms and Monte Carlo cv.\n",
    "\n",
    "For configurations that use a mix of unigrams, bigrams and trigrams we enforce the minimum document frequency to be at least two in order to limit dimensionality.\n",
    "\n",
    "The specific model configurations we will test are:\n",
    "\n",
    "| Config. |Algorithm | Stemming/Lemmatization | Bag of words method | N-gram range | Min document frequency \n",
    "| :--- | :--- | :--- | :--- | :---: | :---: \n",
    "|1|MNB|Stemming|CountVectorizer|(1, 1)|1\n",
    "|2|MNB|Lemmatization|CountVectorizer|(1, 1)|1\n",
    "|3|MNB|Stemming|CountVectorizer|(1, 2)|2\n",
    "|4|MNB|Lemmatization|CountVectorizer|(1, 2)|2\n",
    "|5|MNB|Stemming|CountVectorizer|(1, 3)|2\n",
    "|6|MNB|Lemmatization|CountVectorizer|(1, 3)|2\n",
    "|7|MNB|Stemming|CountVectorizer|(2, 3)|1\n",
    "|8|MNB|Lemmatization|CountVectorizer|(2, 3)|1\n",
    "|9|MNB|Stemming|TfidfVectorizer|(1, 1)|1\n",
    "|10|MNB|Lemmatization|TfidfVectorizer|(1, 1)|1\n",
    "|11|MNB|Stemming|TfidfVectorizer|(1, 2)|2\n",
    "|12|MNB|Lemmatization|TfidfVectorizer|(1, 2)|2\n",
    "|13|MNB|Stemming|TfidfVectorizer|(1, 3)|2\n",
    "|14|MNB|Lemmatization|TfidfVectorizer|(1, 3)|2\n",
    "|15|MNB|Stemming|TfidfVectorizer|(2, 3)|1\n",
    "|16|MNB|Lemmatization|TfidfVectorizer|(2, 3)|1\n",
    "|17|SVM|Stemming|CountVectorizer|(1, 1)|1\n",
    "|18|SVM|Lemmatization|CountVectorizer|(1, 1)|1\n",
    "|19|SVM|Stemming|CountVectorizer|(1, 2)|2\n",
    "|20|SVM|Lemmatization|CountVectorizer|(1, 2)|2\n",
    "|21|SVM|Stemming|CountVectorizer|(1, 3)|2\n",
    "|22|SVM|Lemmatization|CountVectorizer|(1, 3)|2\n",
    "|23|SVM|Stemming|CountVectorizer|(2, 3)|1\n",
    "|24|SVM|Lemmatization|CountVectorizer|(2, 3)|1\n",
    "|25|SVM|Stemming|TfidfVectorizer|(1, 1)|1\n",
    "|26|SVM|Lemmatization|TfidfVectorizer|(1, 1)|1\n",
    "|27|SVM|Stemming|TfidfVectorizer|(1, 2)|2\n",
    "|28|SVM|Lemmatization|TfidfVectorizer|(1, 2)|2\n",
    "|29|SVM|Stemming|TfidfVectorizer|(1, 3)|2\n",
    "|30|SVM|Lemmatization|TfidfVectorizer|(1, 3)|2\n",
    "|31|SVM|Stemming|TfidfVectorizer|(2, 3)|1\n",
    "|32|SVM|Lemmatization|TfidfVectorizer|(2, 3)|1"
   ]
  },
  {
   "cell_type": "code",
   "execution_count": 22,
   "metadata": {},
   "outputs": [],
   "source": [
    "# Setting up the parameters - we will trial 16 configurations for both MNB and SVM models\n",
    "params = 2 * [{'stem':True, 'count_vectorizer':True, 'min_df':1, 'ngram_range':(1, 1)},\n",
    "              {'stem':False, 'count_vectorizer':True, 'min_df':1, 'ngram_range':(1, 1)},\n",
    "              {'stem':True, 'count_vectorizer':True, 'min_df':2, 'ngram_range':(1, 2)},\n",
    "              {'stem':False, 'count_vectorizer':True, 'min_df':2, 'ngram_range':(1, 2)},\n",
    "              {'stem':True, 'count_vectorizer':True, 'min_df':2, 'ngram_range':(1, 3)},\n",
    "              {'stem':False, 'count_vectorizer':True, 'min_df':2, 'ngram_range':(1, 3)},\n",
    "              {'stem':True, 'count_vectorizer':True, 'min_df':1, 'ngram_range':(2, 3)},\n",
    "              {'stem':False, 'count_vectorizer':True, 'min_df':1, 'ngram_range':(2, 3)},\n",
    "              {'stem':True, 'count_vectorizer':False, 'min_df':1, 'ngram_range':(1, 1)},\n",
    "              {'stem':False, 'count_vectorizer':False, 'min_df':1, 'ngram_range':(1, 1)},\n",
    "              {'stem':True, 'count_vectorizer':False, 'min_df':2, 'ngram_range':(1, 2)},\n",
    "              {'stem':False, 'count_vectorizer':False, 'min_df':2, 'ngram_range':(1, 2)},\n",
    "              {'stem':True, 'count_vectorizer':False, 'min_df':2, 'ngram_range':(1, 3)},\n",
    "              {'stem':False, 'count_vectorizer':False, 'min_df':2, 'ngram_range':(1, 3)},\n",
    "              {'stem':True, 'count_vectorizer':False, 'min_df':1, 'ngram_range':(2, 3)},\n",
    "              {'stem':False, 'count_vectorizer':False, 'min_df':1, 'ngram_range':(2, 3)}]"
   ]
  },
  {
   "cell_type": "markdown",
   "metadata": {},
   "source": [
    "<font color=red> **Warning! The following cell takes approximately 2 hours to run, therefore run_models is set to false to prevent the following cell from running. The cross validation results produced from running the following cell are hardcoded into the following markdown cell.** </font> "
   ]
  },
  {
   "cell_type": "code",
   "execution_count": 23,
   "metadata": {
    "scrolled": true
   },
   "outputs": [
    {
     "name": "stdout",
     "output_type": "stream",
     "text": [
      "Wall time: 0 ns\n"
     ]
    }
   ],
   "source": [
    "%%time\n",
    "# Training the models - 16 MNB and 16 SVM\n",
    "run_models = False\n",
    "    \n",
    "if run_models:\n",
    "    models = [MultinomialNB()] * 16 + [LinearSVC()] * 16\n",
    "    mccv = MonteCarloCV(models, number_of_runs=30)\n",
    "    mccv.train_params(x_train, y_train, feature_processing=feature_vectorisation, params=params,\n",
    "                      verbose=False)\n",
    "    \n",
    "    # Creating labels\n",
    "    model_labels = ['MNB', 'SVM']\n",
    "    param_labels = ['stemming, count_vec, ngrams:(1,1)',\n",
    "                    'lemmatize, count_vec, ngrams:(1,1)',\n",
    "                    'stemming, count_vec, ngrams:(1,2)',\n",
    "                    'lemmatize, count_vec, ngrams:(1,2)',\n",
    "                    'stemming, count_vec, ngrams:(1,3)',\n",
    "                    'lemmatize, count_vec, ngrams:(1,3)',\n",
    "                    'stemming, count_vec, ngrams:(2,3)',\n",
    "                    'lemmatize, count_vec, ngrams:(2,3)',\n",
    "                    'stemming, tdif_vec, ngrams:(1,1)',\n",
    "                    'lemmatize, tdif_vec, ngrams:(1,1)',\n",
    "                    'stemming, tdif_vec, ngrams:(1,2)',\n",
    "                    'lemmatize, tdif_vec, ngrams:(1,2)',\n",
    "                    'stemming, tdif_vec, ngrams:(1,3)',\n",
    "                    'lemmatize, tdif_vec, ngrams:(1,3)',\n",
    "                    'stemming, tdif_vec, ngrams:(2,3)',\n",
    "                    'lemmatize, tdif_vec, ngrams:(2,3)']\n",
    "    labels = [ml + ' - ' + pl for ml in model_labels for pl in param_labels]\n",
    "\n",
    "    # Create a table with results from all the model runs\n",
    "    results_df = pd.DataFrame()\n",
    "    results_df['model_configuration'] = labels\n",
    "    results_df[['mean_accuracy', 'standard_deviation']] = [[v[0], v[1]] for v in mccv.results_dict.values()]\n",
    "    results_df['sharpe_ratio'] = results_df['mean_accuracy'] / results_df['standard_deviation']\n",
    "    results_df.sort_values('mean_accuracy', ascending=False)"
   ]
  },
  {
   "cell_type": "markdown",
   "metadata": {},
   "source": [
    "#### Cross validation results\n",
    "\n",
    "Running the 32 model configurations through cross validation we obtain the following results:\n",
    "\n",
    "| | model_configuration |\tmean_accuracy |\tstandard_deviation | sharpe_ratio \n",
    "| :---: | :-- | :-- | :-- |:-- \n",
    "|26|SVM - stemming, tdif_vec, ngrams:(1,2)|0.80261|0.017679|45.39994\n",
    "|28|SVM - stemming, tdif_vec, ngrams:(1,3)|0.800402|0.018121|44.169086\n",
    "|24|SVM - stemming, tdif_vec, ngrams:(1,1)|0.798795|0.02067|38.645044\n",
    "|27|SVM - lemmatize, tdif_vec, ngrams:(1,2)|0.797289|0.019036|41.882422\n",
    "|29|SVM - lemmatize, tdif_vec, ngrams:(1,3)|0.796888|0.018725|42.558405\n",
    "|25|SVM - lemmatize, tdif_vec, ngrams:(1,1)|0.791667|0.017872|44.297054\n",
    "|2|MNB - stemming, count_vec, ngrams:(1,2)|0.778213|0.022113|35.192213\n",
    "|4|MNB - stemming, count_vec, ngrams:(1,3)|0.77761|0.022901|33.95591\n",
    "|3|MNB - lemmatize, count_vec, ngrams:(1,2)|0.777309|0.021255|36.570982\n",
    "|20|SVM - stemming, count_vec, ngrams:(1,3)|0.776104|0.017552|44.218379\n",
    "|5|MNB - lemmatize, count_vec, ngrams:(1,3)|0.776004|0.022181|34.984313\n",
    "|18|SVM - stemming, count_vec, ngrams:(1,2)|0.775201|0.016743|46.299987\n",
    "|10|MNB - stemming, tdif_vec, ngrams:(1,2)|0.774498|0.024231|31.963479\n",
    "|12|MNB - stemming, tdif_vec, ngrams:(1,3)|0.773193|0.022676|34.097593\n",
    "|11|MNB - lemmatize, tdif_vec, ngrams:(1,2)|0.77259|0.025614|30.162558\n",
    "|8|MNB - stemming, tdif_vec, ngrams:(1,1)|0.771787|0.023598|32.705901\n",
    "|9|MNB - lemmatize, tdif_vec, ngrams:(1,1)|0.770884|0.023805|32.383079\n",
    "|13|MNB - lemmatize, tdif_vec, ngrams:(1,3)|0.770382|0.024118|31.94284\n",
    "|1|MNB - lemmatize, count_vec, ngrams:(1,1)|0.769478|0.02098|36.676994\n",
    "|0|MNB - stemming, count_vec, ngrams:(1,1)|0.767972|0.022627|33.940625\n",
    "|21|SVM - lemmatize, count_vec, ngrams:(1,3)|0.767671|0.017052|45.02011\n",
    "|19|SVM - lemmatize, count_vec, ngrams:(1,2)|0.765663|0.016723|45.783845\n",
    "|17|SVM - lemmatize, count_vec, ngrams:(1,1)|0.755622|0.019454|38.841317\n",
    "|16|SVM - stemming, count_vec, ngrams:(1,1)|0.754418|0.020572|36.671551\n",
    "|30|SVM - stemming, tdif_vec, ngrams:(2,3)|0.744378|0.019516|38.141574\n",
    "|31|SVM - lemmatize, tdif_vec, ngrams:(2,3)|0.743775|0.020309|36.62304\n",
    "|15|MNB - lemmatize, tdif_vec, ngrams:(2,3)|0.742771|0.021729|34.184122\n",
    "|14|MNB - stemming, tdif_vec, ngrams:(2,3)|0.742771|0.025518|29.107943\n",
    "|6|MNB - stemming, count_vec, ngrams:(2,3)|0.741767|0.019033|38.972837\n",
    "|7|MNB - lemmatize, count_vec, ngrams:(2,3)|0.732731|0.022269|32.903263\n",
    "|22|SVM - stemming, count_vec, ngrams:(2,3)|0.729217|0.017586|41.464964\n",
    "|23|SVM - lemmatize, count_vec, ngrams:(2,3)|0.723896|0.017378|41.654733"
   ]
  },
  {
   "cell_type": "markdown",
   "metadata": {},
   "source": [
    "From the cross-validation results, we can see that models using SVM and TF-IDF vectorization generate the best results. Model configurations which exclude unigrams generate the worst results.\n",
    "\n",
    "Our best model uses SVM with TF-IDF vectorisation, stemming and both unigrams and bigrams. This model achieves cv accuracy of 80.26% and a standard deviation of 1.77%."
   ]
  },
  {
   "cell_type": "markdown",
   "metadata": {},
   "source": [
    "#### Comparing our baseline model with the SVM classifier\n",
    "\n",
    "Let's run cross validation for the baseline and new classifier and plot the cv density functions"
   ]
  },
  {
   "cell_type": "code",
   "execution_count": 24,
   "metadata": {
    "scrolled": false
   },
   "outputs": [],
   "source": [
    "# Compare MNB and SVM models using Monte Carlo Cross Validation\n",
    "run_mccv = False\n",
    "\n",
    "if run_mccv:\n",
    "    models = [MultinomialNB(),\n",
    "              LinearSVC()]\n",
    "\n",
    "    params = [{'stem':True, 'count_vectorizer':True, 'min_df':1, 'ngram_range':(1, 1)},\n",
    "              {'stem':True, 'count_vectorizer':False, 'min_df':2, 'ngram_range':(1, 2)}]\n",
    "\n",
    "    mccv = MonteCarloCV(models, number_of_runs=30)\n",
    "    mccv.train_params(x_train, y_train, feature_processing=feature_vectorisation, params=params,\n",
    "                      verbose=True, verbose_n=10)\n",
    "\n",
    "    model_labels = ['MNB', 'SVM']\n",
    "    param_labels = ['stemming, count_vec, ngrams:(1, 1)',\n",
    "                    'lemmatize, tdif_vec, ngrams:(1, 3)']\n",
    "    labels = [model_labels[i] + ' ' + param_labels[i] for i in range(len(model_labels))]\n",
    "    mccv.plot_scores(labels=labels, xlim=(0.67, 0.87))"
   ]
  },
  {
   "cell_type": "markdown",
   "metadata": {},
   "source": [
    "<img align=\"left\" src='mccv2.png'>"
   ]
  },
  {
   "cell_type": "markdown",
   "metadata": {},
   "source": [
    "Observing the cv density functions, we can see that the MNB and SVM accuracy distributions are markedly different. The SVM distribution has a higher mean accuracy and a tighter distribution, as measured by the standard deviation. Overall the SVM looks like a better model.\n",
    "\n",
    "Now let's check performance on the test set:"
   ]
  },
  {
   "cell_type": "code",
   "execution_count": 25,
   "metadata": {},
   "outputs": [
    {
     "name": "stdout",
     "output_type": "stream",
     "text": [
      "training set accuracy 1.0\n",
      "test set accuracy 0.8159\n"
     ]
    }
   ],
   "source": [
    "# Train the model and print accuracy\n",
    "x_train_lemm = stem_docs(x_train)\n",
    "x_test_lemm = stem_docs(x_test)\n",
    "\n",
    "vectorizer = TfidfVectorizer(min_df=2, ngram_range=(1, 2))\n",
    "vectorizer.fit(x_train_lemm)\n",
    "\n",
    "x_train_vec = vectorizer.transform(x_train_lemm).toarray()\n",
    "x_test_vec = vectorizer.transform(x_test_lemm).toarray()\n",
    "    \n",
    "clf = LinearSVC()\n",
    "clf.fit(x_train_vec, y_train)\n",
    "\n",
    "y_train_pred = clf.predict(x_train_vec)\n",
    "y_test_pred = clf.predict(x_test_vec)\n",
    "\n",
    "print_accuracy(y_train, y_train_pred, y_test, y_test_pred)"
   ]
  },
  {
   "cell_type": "code",
   "execution_count": 26,
   "metadata": {},
   "outputs": [
    {
     "name": "stdout",
     "output_type": "stream",
     "text": [
      "\n",
      "test set confusion matrix (proportion):\n"
     ]
    },
    {
     "data": {
      "text/html": [
       "<div>\n",
       "<style scoped>\n",
       "    .dataframe tbody tr th:only-of-type {\n",
       "        vertical-align: middle;\n",
       "    }\n",
       "\n",
       "    .dataframe tbody tr th {\n",
       "        vertical-align: top;\n",
       "    }\n",
       "\n",
       "    .dataframe thead th {\n",
       "        text-align: right;\n",
       "    }\n",
       "</style>\n",
       "<table border=\"1\" class=\"dataframe\">\n",
       "  <thead>\n",
       "    <tr style=\"text-align: right;\">\n",
       "      <th></th>\n",
       "      <th>Predicted:0</th>\n",
       "      <th>Predicted:1</th>\n",
       "      <th>Total</th>\n",
       "    </tr>\n",
       "  </thead>\n",
       "  <tbody>\n",
       "    <tr>\n",
       "      <th>Actual:0</th>\n",
       "      <td>0.4007</td>\n",
       "      <td>0.1047</td>\n",
       "      <td>0.5054</td>\n",
       "    </tr>\n",
       "    <tr>\n",
       "      <th>Actual:1</th>\n",
       "      <td>0.0794</td>\n",
       "      <td>0.4152</td>\n",
       "      <td>0.4946</td>\n",
       "    </tr>\n",
       "    <tr>\n",
       "      <th>Total</th>\n",
       "      <td>0.4801</td>\n",
       "      <td>0.5199</td>\n",
       "      <td>1.0000</td>\n",
       "    </tr>\n",
       "  </tbody>\n",
       "</table>\n",
       "</div>"
      ],
      "text/plain": [
       "          Predicted:0  Predicted:1   Total\n",
       "Actual:0       0.4007       0.1047  0.5054\n",
       "Actual:1       0.0794       0.4152  0.4946\n",
       "Total          0.4801       0.5199  1.0000"
      ]
     },
     "metadata": {},
     "output_type": "display_data"
    }
   ],
   "source": [
    "# Print confusion matrices\n",
    "train_cm_prop = labelled_confusion_matrix(y_train, y_train_pred, prop=True) \n",
    "test_cm_prop = labelled_confusion_matrix(y_test, y_test_pred, prop=True) \n",
    "\n",
    "print('\\ntest set confusion matrix (proportion):')\n",
    "display(test_cm_prop)"
   ]
  },
  {
   "cell_type": "markdown",
   "metadata": {},
   "source": [
    "The SVM achieves a test set accuracy of 81.59%, a slight improvement over the average cv accuracy of 80.26%.\n",
    "\n",
    "Looking at the test set confusion matrix we see that 10.47% of our predictions are false positives and 7.94% are false negatives. These represent 15% and 31% respective improvements over our baseline model.\n",
    "\n",
    "Although we have improved the classifier considerably, it is still a far way from human level performance."
   ]
  },
  {
   "cell_type": "markdown",
   "metadata": {},
   "source": [
    "<font color=blue> **Summary**\n",
    "- After trialling multiple model configurations we find that:\n",
    "    - Using an SVM and the TF-IDF vectorizer generate superior results compared to using multinomial naive Bayes and a count vectorizer\n",
    "    - The best model uses SVM with TF-IDF vectorisation, stemming and both unigrams and bigrams. \n",
    "    - This model achieves cv accuracy of 80.26%, a 4.5% improvement over the baseline model\n",
    "    - Our chosen model achieves a test set accuracy of 81.59%, which is consistent with results from cross-validation\n",
    "    - Although we have managed to improve the results of the classifier, they are still far from human level performance\n",
    "</font>"
   ]
  },
  {
   "cell_type": "markdown",
   "metadata": {},
   "source": [
    "### 2.3 Document vectors <a id='part2.3'></a>\n",
    "\n",
    "So far we have used bag of words models to create numerical representations of the car reviews data. We transform each review into a fixed-length vector, where each element in the vector represents the number of times that a given word appears in the document, or the TF-IDF normalised value if using the TF-IDF vectorizer.\n",
    "\n",
    "Although they have served us well thus far, bag of words models have several limitations. They suffer from data sparsity and high dimensionality and they ignore the order and semantics of words. For example, 'I live to work' and 'I work to live' have identical bag of words representations, despite the meaning of each sentence being very different due to the differing word order. Additionally, words such as 'run', 'walk' and 'pizza' are equally distant, despite the fact that 'run' and 'walk' are closer semantically.\n",
    "\n",
    "#### Doc2Vec\n",
    "Building on the foundations of Word2Vec (Mitkolov et al., 2013), Doc2Vec is an unsupervised learning algorithm which generates densely populated, fixed-length feature representations from documents of varying lengths (Le and Mitkolov, 2014). \n",
    "\n",
    "The vector representations are trained to predict the surrounding words in various contexts sampled from the documents. These vector representations are learned via a shallow neural network.\n",
    "\n",
    "Doc2Vec improves on the shortcomings of bag of words models in several ways: documents can be represented in fewer dimensions, vectors are densely populated and documents with similar meanings share a similar vector space.\n",
    "\n",
    "#### Training a Doc2Vec model\n",
    "We will train a Doc2Vec model using Gensim's Doc2Vec implementation and use the following hyperparameter settings as suggested by Lau and Baldwin (2016):\n",
    "- dm: 0 (use distributed bag of words algorithm instead of distributed memory)\n",
    "- vector size: 300\n",
    "- window size: 15\n",
    "- min count: 5\n",
    "- sub-sample: 10e-5\n",
    "- epochs: 20\n",
    "- alpha: 0.025\n",
    "\n",
    "#### Sentiment prediction using Doc2Vec\n",
    "After training a Doc2Vec model, we will transform our reviews into document vectors and use a logistic regression model to predict sentiment."
   ]
  },
  {
   "cell_type": "markdown",
   "metadata": {},
   "source": [
    "<font color='orangered'> **Implementation note:**  \n",
    "A function called feature_vectorisation_d2v is passed into the MonteCarloCV train_params() method and handles the parameters and training of the Doc2Vec model.\n",
    "    \n",
    "This function ensures that the document vectors are trained only on the cv training set and then applied to the cv validation set in order to prevent any data leakage.  \n",
    "\n",
    "See car_reviews_utils.py for further details.\n",
    "</font>"
   ]
  },
  {
   "cell_type": "markdown",
   "metadata": {},
   "source": [
    "<font color='red'>**Warning! There are several non-deterministic components in the Doc2Vec model, therefore results in the following cells vary slightly if the cells are run again.** </font>"
   ]
  },
  {
   "cell_type": "code",
   "execution_count": 28,
   "metadata": {},
   "outputs": [],
   "source": [
    "# Create a logistic regression model using document vectors as features\n",
    "run_mccv = False\n",
    "\n",
    "if run_mccv:\n",
    "    models = [LogisticRegression(max_iter=1000)]\n",
    "\n",
    "    mccv = MonteCarloCV(models, number_of_runs=30)\n",
    "    mccv.train(x_train, y_train, feature_processing=feature_vectorisation_d2v, verbose=True, verbose_n=10)\n",
    "\n",
    "    model_labels = ['Logistic Regression']\n",
    "    mccv.plot_scores(labels=model_labels, xlim=(0.62, 0.82))"
   ]
  },
  {
   "cell_type": "markdown",
   "metadata": {},
   "source": [
    "<img align=\"left\" src='mccv3.png'>"
   ]
  },
  {
   "cell_type": "markdown",
   "metadata": {},
   "source": [
    "The Doc2Vec and logistic regression model achieves a mean cv accuracy of 72.51% with a standard deviation of 2.23%. These results are poor relative to those produced by both MNB and SVM models.\n",
    "\n",
    "We have used the hyperparameter settings as suggested by Lau and Baldwin (2016), however testing of other hyperparameter combinations could improve performance. This is beyond the scope of this assignment.\n",
    "\n",
    "Additionally, Doc2Vec models have been shown to perform better when trained on very large corpuses containing millions of examples as well as pretrained word vectors (Lau and Baldwin, 2016). Our corpus is relatively small and this is reflected in the performance of the model.\n",
    "\n",
    "For completeness, let's check test set performance:"
   ]
  },
  {
   "cell_type": "code",
   "execution_count": 29,
   "metadata": {},
   "outputs": [
    {
     "name": "stdout",
     "output_type": "stream",
     "text": [
      "training set accuracy 0.7837\n",
      "test set accuracy 0.7329\n"
     ]
    }
   ],
   "source": [
    "# Train the model and print accuracy\n",
    "x_train_tagged = label_sentences(x_train, 'Train')\n",
    "x_test_tagged = label_sentences(x_test, 'Test')\n",
    "\n",
    "d2v_model = Doc2Vec(dm=0, vector_size=300, window=15, min_count=5, \n",
    "                    sample=10e-5, alpha=0.025, epochs=20)\n",
    "d2v_model.build_vocab(x_train_tagged)\n",
    "d2v_model.train(x_train_tagged, total_examples=len(x_train_tagged), epochs=d2v_model.epochs)\n",
    "\n",
    "train_vectors_dbow = get_vectors(d2v_model, x_train_tagged)\n",
    "test_vectors_dbow = get_vectors(d2v_model, x_test_tagged)\n",
    "    \n",
    "clf = LogisticRegression(max_iter=1000)\n",
    "clf.fit(train_vectors_dbow, y_train)\n",
    "\n",
    "y_train_pred = clf.predict(train_vectors_dbow)\n",
    "y_test_pred = clf.predict(test_vectors_dbow)\n",
    "\n",
    "print_accuracy(y_train, y_train_pred, y_test, y_test_pred)"
   ]
  },
  {
   "cell_type": "code",
   "execution_count": 30,
   "metadata": {},
   "outputs": [
    {
     "name": "stdout",
     "output_type": "stream",
     "text": [
      "\n",
      "test set confusion matrix (proportion):\n"
     ]
    },
    {
     "data": {
      "text/html": [
       "<div>\n",
       "<style scoped>\n",
       "    .dataframe tbody tr th:only-of-type {\n",
       "        vertical-align: middle;\n",
       "    }\n",
       "\n",
       "    .dataframe tbody tr th {\n",
       "        vertical-align: top;\n",
       "    }\n",
       "\n",
       "    .dataframe thead th {\n",
       "        text-align: right;\n",
       "    }\n",
       "</style>\n",
       "<table border=\"1\" class=\"dataframe\">\n",
       "  <thead>\n",
       "    <tr style=\"text-align: right;\">\n",
       "      <th></th>\n",
       "      <th>Predicted:0</th>\n",
       "      <th>Predicted:1</th>\n",
       "      <th>Total</th>\n",
       "    </tr>\n",
       "  </thead>\n",
       "  <tbody>\n",
       "    <tr>\n",
       "      <th>Actual:0</th>\n",
       "      <td>0.3791</td>\n",
       "      <td>0.1264</td>\n",
       "      <td>0.5054</td>\n",
       "    </tr>\n",
       "    <tr>\n",
       "      <th>Actual:1</th>\n",
       "      <td>0.1408</td>\n",
       "      <td>0.3538</td>\n",
       "      <td>0.4946</td>\n",
       "    </tr>\n",
       "    <tr>\n",
       "      <th>Total</th>\n",
       "      <td>0.5199</td>\n",
       "      <td>0.4801</td>\n",
       "      <td>1.0000</td>\n",
       "    </tr>\n",
       "  </tbody>\n",
       "</table>\n",
       "</div>"
      ],
      "text/plain": [
       "          Predicted:0  Predicted:1   Total\n",
       "Actual:0       0.3791       0.1264  0.5054\n",
       "Actual:1       0.1408       0.3538  0.4946\n",
       "Total          0.5199       0.4801  1.0000"
      ]
     },
     "metadata": {},
     "output_type": "display_data"
    }
   ],
   "source": [
    "# Print confusion matrices\n",
    "test_cm_prop = labelled_confusion_matrix(y_test, y_test_pred, prop=True) \n",
    "\n",
    "print('\\ntest set confusion matrix (proportion):')\n",
    "display(test_cm_prop)"
   ]
  },
  {
   "cell_type": "markdown",
   "metadata": {},
   "source": [
    "The Doc2Vec and logistic regression model only achieves an accuracy of 73.29% on the test set.\n",
    "\n",
    "Observing the test set confusion matrix, we see a 21% increase in false positives and a 77% increase in false negatives compared with our SVM model."
   ]
  },
  {
   "cell_type": "markdown",
   "metadata": {},
   "source": [
    "<font color=blue> **Summary**\n",
    "- Doc2Vec provides an alternative to the bag of words methods we have used so far and enables a more compact representation of our documents and improves on the shortcomings of bag of word models\n",
    "- We have implemented a Doc2Vec model using hyperparameters suggested by Lau and Baldwin (2016)\n",
    "- The Doc2Vec and logistic regression model achieves a mean cv accuracy of 72.51% and test set accuracy of 73.29%\n",
    "- These results are poor relative to the MNB and SVM models\n",
    "- There is scope to improve these results through further hyperparameter tuning and training on a larger corpus\n",
    "</font>"
   ]
  },
  {
   "cell_type": "markdown",
   "metadata": {},
   "source": [
    "### 3. Conclusions <a id='part3'></a>\n",
    "\n",
    "In this assignment we have explored several methods to predict the sentiment from our car review data. \n",
    "\n",
    "In part 1 we cleaned our data, applied stemming, transformed our data using a bag of words model and then used multinomial naive Bayes to predict sentiment.\n",
    "\n",
    "In part 2 we made efforts to improve our classifier. We have used cross-validation to generate more robust performance estimates and compare models. We have trialled the use of support vector machines, lemmatization, TF-IDF weighting and the inclusion of bigrams and trigrams. We have also touched on the use of more sophisticated representations of our data in the form of document vectors.\n",
    "\n",
    "Our best model uses a SVM with TF-IDF vectorisation, stemming and both unigrams and bigrams. This model achieves a cv accuracy of 80.26%, a 4.5% improvement over our MNB baseline model. Performance is consistent on the test set, where the SVM achieves 81.59% accuracy. Although we have managed to improve upon our original MNB classifier, the expected performance from our SVM model is still well below human performance.\n",
    "\n",
    "Results from using Doc2Vec in conjunction with logistic regression are disappointing, however these could be improved through increasing the corpus size and further hyperparameter tuning."
   ]
  },
  {
   "cell_type": "markdown",
   "metadata": {},
   "source": [
    "### 4. References <a id='part4'></a>\n",
    "\n",
    "M. F. Porter. (1980). An algorithm for suffix stripping. Program, 14(3), 130-137. Retrieved from https://tartarus.org/martin/PorterStemmer/def.txt\n",
    "\n",
    "Snowballstem. (2002). The English (Porter2) stemming algorithm. https://snowballstem.org/algorithms/english/stemmer.html\n",
    "\n",
    "Wang, S. & Manning, C. D. (2012). Baselines and bigrams: Simple, good sentiment and text classification. In Proceedings of the 50th Annual Meeting of the Association for Computational Linguistics. Retrieved from https://www.aclweb.org/anthology/P12-2018.pdf\n",
    "\n",
    "Mikolov, T., Chen, K., Corrado, G. & Dean J. (2013). Efficient Estimation of Word Representations in Vector Space. Google. Retrieved from https://arxiv.org/pdf/1301.3781.pdf\n",
    "\n",
    "Le, Q. & Mikolov, T. (2014). Distributed Representations of Sentences and Documents. In Proceedings of the 31st International Conference on Machine Learning, Beijing, China. Retrieved from https://arxiv.org/pdf/1405.4053.pdf\n",
    "\n",
    "Zheng, A. (2015). Evaluating Machine Learning Models. Boston, O'Reilly Media.\n",
    "\n",
    "Lau, J. H. & Balwin, T. (2016). An Empirical Evaluation of doc2vec with Practical Insights into Document Embedding Generation. In Proceedings of the 1st Workshop on Representation Learning for NLP, 78–86. Retrieved from https://www.aclweb.org/anthology/W16-1609.pdf\n",
    "\n",
    "Geron, A. (2017). Hands-On Machine Learning with Scikit-Learn & TensorFlow. Boston, O'Reilly Media.\n",
    "\n",
    "Albon, C. (2018). Python Machine Learning Cookbook. Boston, O'Reilly Media.\n"
   ]
  }
 ],
 "metadata": {
  "kernelspec": {
   "display_name": "Python 3",
   "language": "python",
   "name": "python3"
  },
  "language_info": {
   "codemirror_mode": {
    "name": "ipython",
    "version": 3
   },
   "file_extension": ".py",
   "mimetype": "text/x-python",
   "name": "python",
   "nbconvert_exporter": "python",
   "pygments_lexer": "ipython3",
   "version": "3.8.8"
  }
 },
 "nbformat": 4,
 "nbformat_minor": 4
}
